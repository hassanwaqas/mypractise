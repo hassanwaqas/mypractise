{
 "cells": [
  {
   "cell_type": "code",
   "execution_count": 4,
   "metadata": {},
   "outputs": [
    {
     "name": "stdout",
     "output_type": "stream",
     "text": [
      "Enter the no. of heads:35\n",
      "Enter the no. of legs(should be even in number):94\n",
      "The two legged animals are 23 in number, whereas the four legged animals are 12 in number\n"
     ]
    }
   ],
   "source": [
    "#Question 1: Write a program to solve a classic ancient Chinese puzzle:\n",
    "#We count 35 heads and 94 legs among the chickens and rabbits in a\n",
    "#farm. How many rabbits and how many chickens do we have?\n",
    "#Hint:\n",
    "#Use for loop to iterate all possible solutions.\n",
    "\n",
    "heads = int(input(\"Enter the no. of heads:\"))\n",
    "legs = int(input(\"Enter the no. of legs(should be even in number):\"))\n",
    "heads_4 = []\n",
    "heads_2 = []\n",
    "\n",
    "for i in range(0,legs+1,4):\n",
    "    heads_4.append(int(i/4))\n",
    "for j in range(0,legs+1,2):\n",
    "    heads_2.append(int(j/2))\n",
    "\n",
    "for x in heads_2:\n",
    "    for y in heads_4:\n",
    "        z=2*x + 4*y\n",
    "        if z == legs:\n",
    "                if x+y == heads:\n",
    "                    print(\"The two legged animals are {} in number, whereas the four legged animals are {} in number\".format(x,y))\n",
    "      "
   ]
  },
  {
   "cell_type": "code",
   "execution_count": 5,
   "metadata": {},
   "outputs": [
    {
     "name": "stdout",
     "output_type": "stream",
     "text": [
      "Enter a string: Hassan\n",
      "Hsa"
     ]
    }
   ],
   "source": [
    "\n",
    "#Question 2:\n",
    "#Please write a program which accepts a string from console and print the characters that have even indexes\n",
    "\n",
    "x = input(\"Enter a string: \")\n",
    "for z in x[::2]:\n",
    "    print(z,end='')"
   ]
  },
  {
   "cell_type": "code",
   "execution_count": 6,
   "metadata": {},
   "outputs": [
    {
     "name": "stdout",
     "output_type": "stream",
     "text": [
      "Enter a string:hadsjasl\n",
      "lsajsdah"
     ]
    }
   ],
   "source": [
    "#Question 3:\n",
    "#Please write a program which accepts a string from console and print it in reverse order.\n",
    "\n",
    "x =input(\"Enter a string:\")\n",
    "for z in x[::-1]:\n",
    "    print(z,end='')\n",
    "    "
   ]
  },
  {
   "cell_type": "code",
   "execution_count": 9,
   "metadata": {},
   "outputs": [
    {
     "name": "stdout",
     "output_type": "stream",
     "text": [
      "Enter a string:hassan waqas\n",
      "h,1\n",
      "a,4\n",
      "s,3\n",
      "n,1\n",
      " ,1\n",
      "w,1\n",
      "q,1\n"
     ]
    }
   ],
   "source": [
    "#Question 4:\n",
    "#Please write a program which count and print the numbers of each character in a string input by console.\n",
    "mydict = {}\n",
    "\n",
    "x = input(\"Enter a string:\")\n",
    "for i in x:\n",
    "    mydict[i] = mydict.get(i,0)+1\n",
    "\n",
    "for k in mydict:\n",
    "    print(k,mydict[k],sep=\",\")"
   ]
  },
  {
   "cell_type": "code",
   "execution_count": 10,
   "metadata": {},
   "outputs": [
    {
     "name": "stdout",
     "output_type": "stream",
     "text": [
      "Enter length of the square:23\n",
      "The area of the square is 529\n"
     ]
    }
   ],
   "source": [
    "#Question 5:\n",
    "#Define a class named Shape and its subclass Square. The Square class\n",
    "#has an init function which takes a length as argument. Both classes\n",
    "#have a area function which can print the area of the shape where\n",
    "#Shape's area is 0 by default.\n",
    "\n",
    "class Shape():\n",
    "    def __init__(self,length,breadth,height):\n",
    "        self.length = length\n",
    "        self.breadth = breadth\n",
    "        self.height = height\n",
    "    def s_area(self):\n",
    "        area = 0\n",
    "        return area\n",
    "class Square(Shape):\n",
    "    def __init__(self,length):\n",
    "        self.length = length\n",
    "    def s_area(self):\n",
    "        area = self.length*self.length\n",
    "        return area\n",
    "obj = Square(int(input(\"Enter length of the square:\")))   \n",
    "z = obj.s_area()\n",
    "print(\"The area of the square is {}\".format(z))"
   ]
  },
  {
   "cell_type": "code",
   "execution_count": 12,
   "metadata": {},
   "outputs": [
    {
     "name": "stdout",
     "output_type": "stream",
     "text": [
      "Enter numerator: 44\n",
      "Enter denominator: 0\n",
      "The answer to this is infinity\n"
     ]
    }
   ],
   "source": [
    "#Question 6:\n",
    "#Write a function to compute 5/0 and use try/except to catch the\n",
    "#exceptions.\n",
    "x = int(input(\"Enter numerator: \"))\n",
    "y = int(input(\"Enter denominator: \"))\n",
    "try:\n",
    "    z = x/y\n",
    "    print(\"The result is {}\".format(z))\n",
    "except:\n",
    "    print(\"The answer to this is infinity\")"
   ]
  }
 ],
 "metadata": {
  "kernelspec": {
   "display_name": "Python 3",
   "language": "python",
   "name": "python3"
  },
  "language_info": {
   "codemirror_mode": {
    "name": "ipython",
    "version": 3
   },
   "file_extension": ".py",
   "mimetype": "text/x-python",
   "name": "python",
   "nbconvert_exporter": "python",
   "pygments_lexer": "ipython3",
   "version": "3.7.4"
  }
 },
 "nbformat": 4,
 "nbformat_minor": 2
}
